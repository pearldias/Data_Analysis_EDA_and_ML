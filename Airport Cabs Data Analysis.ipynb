{
 "cells": [
  {
   "cell_type": "code",
   "execution_count": 1,
   "id": "b8dd65e7-65f8-4cd8-bb91-0a275ee592d3",
   "metadata": {},
   "outputs": [],
   "source": [
    "import numpy as np"
   ]
  },
  {
   "cell_type": "code",
   "execution_count": 8,
   "id": "45fd29d9-1e2b-410c-a903-698c0cc035d3",
   "metadata": {},
   "outputs": [],
   "source": [
    "taxi=np.genfromtxt('nyc_taxis.csv',delimiter=',',skip_header=True)"
   ]
  },
  {
   "cell_type": "code",
   "execution_count": 9,
   "id": "69d8c094-091a-47d9-a63c-4f4840fdbce4",
   "metadata": {},
   "outputs": [],
   "source": [
    "# Q1: Mean speed of all Cab Rides\n",
    "\n",
    "speed=taxi[:,7]/(taxi[:,8]/3600)"
   ]
  },
  {
   "cell_type": "code",
   "execution_count": 10,
   "id": "2445d7a9-1bdf-4597-afa8-35138700604c",
   "metadata": {},
   "outputs": [
    {
     "name": "stdout",
     "output_type": "stream",
     "text": [
      "Mean Speed is: 32.24258580925573\n"
     ]
    }
   ],
   "source": [
    "mean_speed=speed.mean()\n",
    "print(f\"Mean Speed is: {mean_speed}\")"
   ]
  },
  {
   "cell_type": "code",
   "execution_count": 13,
   "id": "b7e87f54-db94-45c4-8c2f-154f8c9117a2",
   "metadata": {},
   "outputs": [
    {
     "name": "stdout",
     "output_type": "stream",
     "text": [
      "13333\n"
     ]
    }
   ],
   "source": [
    "# Q2: Number of Rides taken in the month of February \n",
    "\n",
    "rides_feb=taxi[taxi[:,1] == 2]\n",
    "print(rides_feb.shape[0])"
   ]
  },
  {
   "cell_type": "code",
   "execution_count": 14,
   "id": "73f00f4b-8398-48af-8854-e2b80da4d2a9",
   "metadata": {},
   "outputs": [
    {
     "name": "stdout",
     "output_type": "stream",
     "text": [
      "16\n"
     ]
    }
   ],
   "source": [
    "# Q3: Number of Rides where passangers have tipped more than 50$\n",
    "rides_more_than_50=taxi[taxi[:,12]>50]\n",
    "print(rides_more_than_50.shape[0])"
   ]
  },
  {
   "cell_type": "code",
   "execution_count": 16,
   "id": "d3a69663-a4c2-4b09-9268-1e5bf6910c42",
   "metadata": {},
   "outputs": [
    {
     "name": "stdout",
     "output_type": "stream",
     "text": [
      "11832\n"
     ]
    }
   ],
   "source": [
    "# Q4: Number of rides where drop was JFK airport ( drop off code for JFK = 2)\n",
    "jfk=taxi[taxi[:,6]==2,5]\n",
    "print(jfk.shape[0])"
   ]
  },
  {
   "cell_type": "code",
   "execution_count": null,
   "id": "be63216e-b975-4483-9348-b968adbfeb47",
   "metadata": {},
   "outputs": [],
   "source": []
  }
 ],
 "metadata": {
  "kernelspec": {
   "display_name": "Python 3 (ipykernel)",
   "language": "python",
   "name": "python3"
  },
  "language_info": {
   "codemirror_mode": {
    "name": "ipython",
    "version": 3
   },
   "file_extension": ".py",
   "mimetype": "text/x-python",
   "name": "python",
   "nbconvert_exporter": "python",
   "pygments_lexer": "ipython3",
   "version": "3.12.6"
  }
 },
 "nbformat": 4,
 "nbformat_minor": 5
}
